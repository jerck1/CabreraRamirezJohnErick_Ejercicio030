{
 "cells": [
  {
   "cell_type": "code",
   "execution_count": 2,
   "metadata": {},
   "outputs": [],
   "source": [
    "import numpy as np\n",
    "import matplotlib.pyplot as plt\n",
    "import sklearn.datasets\n",
    "import sklearn.preprocessing\n",
    "import torch\n",
    "import torchvision\n",
    "import torchvision.datasets\n",
    "import torchvision.models\n",
    "import torchvision.transforms"
   ]
  },
  {
   "cell_type": "code",
   "execution_count": 10,
   "metadata": {},
   "outputs": [
    {
     "name": "stdout",
     "output_type": "stream",
     "text": [
      "(1797, 8, 8)\n"
     ]
    }
   ],
   "source": [
    "numeros = sklearn.datasets.load_digits()\n",
    "imagenes = numeros['images']  # Hay 1797 digitos representados en imagenes 8x8\n",
    "n_imagenes = len(imagenes)\n",
    "X = imagenes.copy()\n",
    "Y = numeros['target']\n",
    "print(np.shape(X))"
   ]
  },
  {
   "cell_type": "code",
   "execution_count": 11,
   "metadata": {},
   "outputs": [
    {
     "name": "stdout",
     "output_type": "stream",
     "text": [
      "torch.Size([1797, 1, 8, 8])\n"
     ]
    }
   ],
   "source": [
    "inputs = torch.autograd.Variable(torch.Tensor(X).float()).unsqueeze(1)\n",
    "print(inputs.size())"
   ]
  },
  {
   "cell_type": "code",
   "execution_count": 12,
   "metadata": {},
   "outputs": [
    {
     "data": {
      "image/png": "[encoded data removed]",
      "text/plain": [
       "<Figure size 1008x360 with 5 Axes>"
      ]
     },
     "metadata": {
      "needs_background": "light"
     },
     "output_type": "display_data"
    }
   ],
   "source": [
    "# muestra algunos ejemplos\n",
    "\n",
    "n_items = inputs.data.size()[0]\n",
    "random_items = np.random.choice(np.arange(n_items), 5)\n",
    "\n",
    "plt.figure(figsize=(14,5))\n",
    "for i in range(5):\n",
    "    plt.subplot(1,5,i+1)\n",
    "    item  = random_items[i]\n",
    "    plt.imshow(inputs[item][0].detach().numpy())\n",
    "    plt.title(Y[item])"
   ]
  },
  {
   "cell_type": "code",
   "execution_count": 13,
   "metadata": {},
   "outputs": [
    {
     "data": {
      "text/plain": [
       "torch.Size([1797, 1, 8, 8])"
      ]
     },
     "execution_count": 13,
     "metadata": {},
     "output_type": "execute_result"
    }
   ],
   "source": [
    "# normaliza\n",
    "mean = inputs.mean(dim=0)\n",
    "std = inputs.std(dim=0)\n",
    "std[std==0]=1.0\n",
    "\n",
    "for i in range(len(inputs)):\n",
    "    inputs[i] = (inputs[i])/std\n",
    "np.shape(inputs)\n"
   ]
  },
  {
   "cell_type": "code",
   "execution_count": 14,
   "metadata": {},
   "outputs": [],
   "source": [
    "# define el autoencoder\n",
    "class Autoencoder(torch.nn.Module):\n",
    "    def __init__(self):\n",
    "        super(Autoencoder,self).__init__()\n",
    "        self.encoder = torch.nn.Sequential(\n",
    "            torch.nn.Conv2d(1, 16, kernel_size=3),\n",
    "            torch.nn.Conv2d(16,8,kernel_size=3),\n",
    "            torch.nn.Conv2d(8,4,kernel_size=3))\n",
    "        self.decoder = torch.nn.Sequential(\n",
    "            torch.nn.ConvTranspose2d(4,8,kernel_size=3),\n",
    "            torch.nn.ConvTranspose2d(8,16,kernel_size=3),\n",
    "            torch.nn.ConvTranspose2d(16,1,kernel_size=3))\n",
    "    def forward(self,x):\n",
    "        x = self.encoder(x)\n",
    "        x = self.decoder(x)\n",
    "        return x"
   ]
  },
  {
   "cell_type": "code",
   "execution_count": 41,
   "metadata": {},
   "outputs": [],
   "source": [
    "# define el autoencoder\n",
    "class Autoencoder(torch.nn.Module):\n",
    "    def __init__(self,k1, k2, k3):\n",
    "        super(Autoencoder,self).__init__()\n",
    "        #k1=16; k2=8; k3=4\n",
    "        self.k1=k1\n",
    "        self.k2=k2\n",
    "        self.k3=k3\n",
    "        self.encoder = torch.nn.Sequential(\n",
    "            torch.nn.Conv2d(1, k1, kernel_size=3),\n",
    "            torch.nn.Conv2d(k1,k2,kernel_size=3),\n",
    "            torch.nn.Conv2d(k2,k3,kernel_size=3))\n",
    "        self.decoder = torch.nn.Sequential(\n",
    "            torch.nn.ConvTranspose2d(k3,k2,kernel_size=3),\n",
    "            torch.nn.ConvTranspose2d(k2,k1,kernel_size=3),\n",
    "            torch.nn.ConvTranspose2d(k1,1,kernel_size=3))\n",
    "    def forward(self,x,k1, k2, k3):\n",
    "        x = self.encoder(x)\n",
    "        x = self.decoder(x)\n",
    "        return x"
   ]
  },
  {
   "cell_type": "code",
   "execution_count": 44,
   "metadata": {},
   "outputs": [
    {
     "ename": "NameError",
     "evalue": "name 'k2' is not defined",
     "output_type": "error",
     "traceback": [
      "\u001b[0;31m---------------------------------------------------------------------------\u001b[0m",
      "\u001b[0;31mNameError\u001b[0m                                 Traceback (most recent call last)",
      "\u001b[0;32m<ipython-input-44-403d29e2fe28>\u001b[0m in \u001b[0;36m<module>\u001b[0;34m\u001b[0m\n\u001b[1;32m      1\u001b[0m \u001b[0;31m# inicializa modelo, loss y optimizador\u001b[0m\u001b[0;34m\u001b[0m\u001b[0;34m\u001b[0m\u001b[0;34m\u001b[0m\u001b[0m\n\u001b[1;32m      2\u001b[0m \u001b[0mnum_epochs\u001b[0m \u001b[0;34m=\u001b[0m \u001b[0;36m100\u001b[0m\u001b[0;34m\u001b[0m\u001b[0;34m\u001b[0m\u001b[0m\n\u001b[0;32m----> 3\u001b[0;31m \u001b[0mmodel\u001b[0m \u001b[0;34m=\u001b[0m \u001b[0mAutoencoder\u001b[0m\u001b[0;34m(\u001b[0m\u001b[0mk1\u001b[0m\u001b[0;34m,\u001b[0m\u001b[0mk2\u001b[0m\u001b[0;34m,\u001b[0m\u001b[0mk3\u001b[0m\u001b[0;34m)\u001b[0m\u001b[0;34m\u001b[0m\u001b[0;34m\u001b[0m\u001b[0m\n\u001b[0m\u001b[1;32m      4\u001b[0m \u001b[0mprint\u001b[0m\u001b[0;34m(\u001b[0m\u001b[0mmodel\u001b[0m\u001b[0;34m)\u001b[0m\u001b[0;34m\u001b[0m\u001b[0;34m\u001b[0m\u001b[0m\n\u001b[1;32m      5\u001b[0m \u001b[0mdistance\u001b[0m \u001b[0;34m=\u001b[0m \u001b[0mtorch\u001b[0m\u001b[0;34m.\u001b[0m\u001b[0mnn\u001b[0m\u001b[0;34m.\u001b[0m\u001b[0mMSELoss\u001b[0m\u001b[0;34m(\u001b[0m\u001b[0;34m)\u001b[0m\u001b[0;34m\u001b[0m\u001b[0;34m\u001b[0m\u001b[0m\n",
      "\u001b[0;31mNameError\u001b[0m: name 'k2' is not defined"
     ]
    }
   ],
   "source": []
  },
  {
   "cell_type": "code",
   "execution_count": 45,
   "metadata": {
    "scrolled": false
   },
   "outputs": [
    {
     "name": "stdout",
     "output_type": "stream",
     "text": [
      "Autoencoder(\n",
      "  (encoder): Sequential(\n",
      "    (0): Conv2d(1, 8, kernel_size=(3, 3), stride=(1, 1))\n",
      "    (1): Conv2d(8, 8, kernel_size=(3, 3), stride=(1, 1))\n",
      "    (2): Conv2d(8, 4, kernel_size=(3, 3), stride=(1, 1))\n",
      "  )\n",
      "  (decoder): Sequential(\n",
      "    (0): ConvTranspose2d(4, 8, kernel_size=(3, 3), stride=(1, 1))\n",
      "    (1): ConvTranspose2d(8, 8, kernel_size=(3, 3), stride=(1, 1))\n",
      "    (2): ConvTranspose2d(8, 1, kernel_size=(3, 3), stride=(1, 1))\n",
      "  )\n",
      ")\n",
      "epoch [1/100], loss:2.4360\n",
      "epoch [2/100], loss:2.2727\n",
      "epoch [3/100], loss:2.0557\n",
      "epoch [4/100], loss:1.7871\n",
      "epoch [5/100], loss:1.6233\n",
      "epoch [6/100], loss:1.7040\n",
      "epoch [7/100], loss:1.5177\n",
      "epoch [8/100], loss:1.3956\n",
      "epoch [9/100], loss:1.3682\n",
      "epoch [10/100], loss:1.3512\n",
      "epoch [11/100], loss:1.3108\n",
      "epoch [12/100], loss:1.2503\n",
      "epoch [13/100], loss:1.1903\n",
      "epoch [14/100], loss:1.1552\n",
      "epoch [15/100], loss:1.1401\n",
      "epoch [16/100], loss:1.1089\n",
      "epoch [17/100], loss:1.0631\n",
      "epoch [18/100], loss:1.0309\n",
      "epoch [19/100], loss:1.0165\n",
      "epoch [20/100], loss:1.0104\n",
      "epoch [21/100], loss:1.0064\n",
      "epoch [22/100], loss:0.9993\n",
      "epoch [23/100], loss:0.9854\n",
      "epoch [24/100], loss:0.9684\n",
      "epoch [25/100], loss:0.9531\n",
      "epoch [26/100], loss:0.9387\n",
      "epoch [27/100], loss:0.9242\n",
      "epoch [28/100], loss:0.9105\n",
      "epoch [29/100], loss:0.8988\n",
      "epoch [30/100], loss:0.8900\n",
      "epoch [31/100], loss:0.8840\n",
      "epoch [32/100], loss:0.8788\n",
      "epoch [33/100], loss:0.8710\n",
      "epoch [34/100], loss:0.8603\n",
      "epoch [35/100], loss:0.8494\n",
      "epoch [36/100], loss:0.8408\n",
      "epoch [37/100], loss:0.8342\n",
      "epoch [38/100], loss:0.8275\n",
      "epoch [39/100], loss:0.8201\n",
      "epoch [40/100], loss:0.8126\n",
      "epoch [41/100], loss:0.8060\n",
      "epoch [42/100], loss:0.7998\n",
      "epoch [43/100], loss:0.7930\n",
      "epoch [44/100], loss:0.7858\n",
      "epoch [45/100], loss:0.7787\n",
      "epoch [46/100], loss:0.7722\n",
      "epoch [47/100], loss:0.7663\n",
      "epoch [48/100], loss:0.7602\n",
      "epoch [49/100], loss:0.7537\n",
      "epoch [50/100], loss:0.7476\n",
      "epoch [51/100], loss:0.7421\n",
      "epoch [52/100], loss:0.7370\n",
      "epoch [53/100], loss:0.7320\n",
      "epoch [54/100], loss:0.7272\n",
      "epoch [55/100], loss:0.7222\n",
      "epoch [56/100], loss:0.7174\n",
      "epoch [57/100], loss:0.7127\n",
      "epoch [58/100], loss:0.7076\n",
      "epoch [59/100], loss:0.7024\n",
      "epoch [60/100], loss:0.6978\n",
      "epoch [61/100], loss:0.6935\n",
      "epoch [62/100], loss:0.6891\n",
      "epoch [63/100], loss:0.6851\n",
      "epoch [64/100], loss:0.6817\n",
      "epoch [65/100], loss:0.6781\n",
      "epoch [66/100], loss:0.6746\n",
      "epoch [67/100], loss:0.6715\n",
      "epoch [68/100], loss:0.6685\n",
      "epoch [69/100], loss:0.6657\n",
      "epoch [70/100], loss:0.6628\n",
      "epoch [71/100], loss:0.6598\n",
      "epoch [72/100], loss:0.6572\n",
      "epoch [73/100], loss:0.6546\n",
      "epoch [74/100], loss:0.6520\n",
      "epoch [75/100], loss:0.6497\n",
      "epoch [76/100], loss:0.6473\n",
      "epoch [77/100], loss:0.6449\n",
      "epoch [78/100], loss:0.6425\n",
      "epoch [79/100], loss:0.6401\n",
      "epoch [80/100], loss:0.6379\n",
      "epoch [81/100], loss:0.6356\n",
      "epoch [82/100], loss:0.6333\n",
      "epoch [83/100], loss:0.6310\n",
      "epoch [84/100], loss:0.6286\n",
      "epoch [85/100], loss:0.6264\n",
      "epoch [86/100], loss:0.6242\n",
      "epoch [87/100], loss:0.6220\n",
      "epoch [88/100], loss:0.6198\n",
      "epoch [89/100], loss:0.6177\n",
      "epoch [90/100], loss:0.6155\n",
      "epoch [91/100], loss:0.6134\n",
      "epoch [92/100], loss:0.6114\n",
      "epoch [93/100], loss:0.6093\n",
      "epoch [94/100], loss:0.6072\n",
      "epoch [95/100], loss:0.6052\n",
      "epoch [96/100], loss:0.6033\n",
      "epoch [97/100], loss:0.6013\n",
      "epoch [98/100], loss:0.5994\n",
      "epoch [99/100], loss:0.5975\n",
      "epoch [100/100], loss:0.5956\n",
      "1909\n",
      "Autoencoder(\n",
      "  (encoder): Sequential(\n",
      "    (0): Conv2d(1, 16, kernel_size=(3, 3), stride=(1, 1))\n",
      "    (1): Conv2d(16, 8, kernel_size=(3, 3), stride=(1, 1))\n",
      "    (2): Conv2d(8, 4, kernel_size=(3, 3), stride=(1, 1))\n",
      "  )\n",
      "  (decoder): Sequential(\n",
      "    (0): ConvTranspose2d(4, 8, kernel_size=(3, 3), stride=(1, 1))\n",
      "    (1): ConvTranspose2d(8, 16, kernel_size=(3, 3), stride=(1, 1))\n",
      "    (2): ConvTranspose2d(16, 1, kernel_size=(3, 3), stride=(1, 1))\n",
      "  )\n",
      ")\n",
      "epoch [1/100], loss:2.2416\n",
      "epoch [2/100], loss:1.9544\n",
      "epoch [3/100], loss:1.6465\n",
      "epoch [4/100], loss:1.7160\n",
      "epoch [5/100], loss:1.4303\n",
      "epoch [6/100], loss:1.3519\n",
      "epoch [7/100], loss:1.3355\n",
      "epoch [8/100], loss:1.2913\n",
      "epoch [9/100], loss:1.2224\n",
      "epoch [10/100], loss:1.1560\n",
      "epoch [11/100], loss:1.1173\n",
      "epoch [12/100], loss:1.0910\n",
      "epoch [13/100], loss:1.0397\n",
      "epoch [14/100], loss:0.9858\n",
      "epoch [15/100], loss:0.9636\n",
      "epoch [16/100], loss:0.9612\n",
      "epoch [17/100], loss:0.9537\n",
      "epoch [18/100], loss:0.9331\n",
      "epoch [19/100], loss:0.9056\n",
      "epoch [20/100], loss:0.8812\n",
      "epoch [21/100], loss:0.8660\n",
      "epoch [22/100], loss:0.8573\n",
      "epoch [23/100], loss:0.8446\n",
      "epoch [24/100], loss:0.8240\n",
      "epoch [25/100], loss:0.8033\n",
      "epoch [26/100], loss:0.7889\n",
      "epoch [27/100], loss:0.7788\n",
      "epoch [28/100], loss:0.7677\n",
      "epoch [29/100], loss:0.7535\n",
      "epoch [30/100], loss:0.7391\n",
      "epoch [31/100], loss:0.7289\n",
      "epoch [32/100], loss:0.7230\n",
      "epoch [33/100], loss:0.7169\n",
      "epoch [34/100], loss:0.7081\n",
      "epoch [35/100], loss:0.6990\n",
      "epoch [36/100], loss:0.6912\n",
      "epoch [37/100], loss:0.6847\n",
      "epoch [38/100], loss:0.6805\n",
      "epoch [39/100], loss:0.6774\n",
      "epoch [40/100], loss:0.6716\n",
      "epoch [41/100], loss:0.6629\n",
      "epoch [42/100], loss:0.6553\n",
      "epoch [43/100], loss:0.6507\n",
      "epoch [44/100], loss:0.6471\n",
      "epoch [45/100], loss:0.6426\n",
      "epoch [46/100], loss:0.6369\n",
      "epoch [47/100], loss:0.6311\n",
      "epoch [48/100], loss:0.6264\n",
      "epoch [49/100], loss:0.6227\n",
      "epoch [50/100], loss:0.6188\n",
      "epoch [51/100], loss:0.6145\n",
      "epoch [52/100], loss:0.6104\n",
      "epoch [53/100], loss:0.6071\n",
      "epoch [54/100], loss:0.6040\n",
      "epoch [55/100], loss:0.6001\n",
      "epoch [56/100], loss:0.5958\n",
      "epoch [57/100], loss:0.5923\n",
      "epoch [58/100], loss:0.5896\n",
      "epoch [59/100], loss:0.5869\n",
      "epoch [60/100], loss:0.5837\n",
      "epoch [61/100], loss:0.5809\n",
      "epoch [62/100], loss:0.5785\n",
      "epoch [63/100], loss:0.5762\n",
      "epoch [64/100], loss:0.5737\n",
      "epoch [65/100], loss:0.5714\n",
      "epoch [66/100], loss:0.5695\n",
      "epoch [67/100], loss:0.5674\n",
      "epoch [68/100], loss:0.5654\n",
      "epoch [69/100], loss:0.5637\n",
      "epoch [70/100], loss:0.5618\n",
      "epoch [71/100], loss:0.5599\n",
      "epoch [72/100], loss:0.5584\n",
      "epoch [73/100], loss:0.5569\n",
      "epoch [74/100], loss:0.5553\n",
      "epoch [75/100], loss:0.5538\n",
      "epoch [76/100], loss:0.5526\n",
      "epoch [77/100], loss:0.5512\n",
      "epoch [78/100], loss:0.5501\n",
      "epoch [79/100], loss:0.5491\n",
      "epoch [80/100], loss:0.5480\n",
      "epoch [81/100], loss:0.5471\n",
      "epoch [82/100], loss:0.5462\n",
      "epoch [83/100], loss:0.5453\n",
      "epoch [84/100], loss:0.5444\n",
      "epoch [85/100], loss:0.5436\n",
      "epoch [86/100], loss:0.5429\n",
      "epoch [87/100], loss:0.5422\n",
      "epoch [88/100], loss:0.5414\n",
      "epoch [89/100], loss:0.5407\n",
      "epoch [90/100], loss:0.5401\n",
      "epoch [91/100], loss:0.5394\n",
      "epoch [92/100], loss:0.5388\n",
      "epoch [93/100], loss:0.5382\n",
      "epoch [94/100], loss:0.5376\n",
      "epoch [95/100], loss:0.5371\n",
      "epoch [96/100], loss:0.5365\n",
      "epoch [97/100], loss:0.5360\n",
      "epoch [98/100], loss:0.5355\n",
      "epoch [99/100], loss:0.5350\n",
      "epoch [100/100], loss:0.5346\n",
      "3221\n"
     ]
    }
   ],
   "source": [
    "# entrenamiento\n",
    "# inicializa modelo, loss y optimizador\n",
    "k2=8\n",
    "k3=4\n",
    "for k1 in [8,16]:\n",
    "    num_epochs = 100\n",
    "    model = Autoencoder(k1,k2,k3)\n",
    "    print(model)\n",
    "    distance = torch.nn.MSELoss()\n",
    "    optimizer = torch.optim.Adam(model.parameters(), lr=0.005, weight_decay=1E-4)\n",
    "    loss_list = [] \n",
    "    for epoch in range(num_epochs):\n",
    "        output = model(inputs,k1,8,4)\n",
    "        loss = distance(output, inputs)\n",
    "        optimizer.zero_grad()\n",
    "        loss.backward()\n",
    "        optimizer.step()\n",
    "        loss_list.append(loss.item())\n",
    "        print('epoch [{}/{}], loss:{:.4f}'.format(epoch+1, num_epochs, loss.item()))\n",
    "    np=0\n",
    "    for m in model.parameters():\n",
    "        np+=m.flatten().size()[0]\n",
    "    print(np)"
   ]
  },
  {
   "cell_type": "code",
   "execution_count": 26,
   "metadata": {},
   "outputs": [
    {
     "name": "stdout",
     "output_type": "stream",
     "text": [
      "torch.Size([1797, 4, 2, 2])\n"
     ]
    }
   ],
   "source": [
    "x_transform = model(inputs)\n",
    "latent_space = model.encoder(inputs)\n",
    "print(latent_space.size())"
   ]
  },
  {
   "cell_type": "code",
   "execution_count": 36,
   "metadata": {},
   "outputs": [
    {
     "name": "stdout",
     "output_type": "stream",
     "text": [
      "3221\n"
     ]
    }
   ],
   "source": []
  },
  {
   "cell_type": "code",
   "execution_count": null,
   "metadata": {},
   "outputs": [],
   "source": []
  }
 ],
 "metadata": {
  "kernelspec": {
   "display_name": "Python 3",
   "language": "python",
   "name": "python3"
  },
  "language_info": {
   "codemirror_mode": {
    "name": "ipython",
    "version": 3
   },
   "file_extension": ".py",
   "mimetype": "text/x-python",
   "name": "python",
   "nbconvert_exporter": "python",
   "pygments_lexer": "ipython3",
   "version": "3.7.4"
  }
 },
 "nbformat": 4,
 "nbformat_minor": 2
}
