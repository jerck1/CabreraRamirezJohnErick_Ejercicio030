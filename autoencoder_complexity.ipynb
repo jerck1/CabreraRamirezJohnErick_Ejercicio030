{
 "cells": [
  {
   "cell_type": "code",
   "execution_count": 1,
   "metadata": {},
   "outputs": [],
   "source": [
    "import numpy as np\n",
    "import matplotlib.pyplot as plt\n",
    "import sklearn.datasets\n",
    "import sklearn.preprocessing\n",
    "import torch\n",
    "import torchvision\n",
    "import torchvision.datasets\n",
    "import torchvision.models\n",
    "import torchvision.transforms"
   ]
  },
  {
   "cell_type": "code",
   "execution_count": 2,
   "metadata": {},
   "outputs": [
    {
     "name": "stdout",
     "output_type": "stream",
     "text": [
      "(1797, 8, 8)\n"
     ]
    }
   ],
   "source": [
    "numeros = sklearn.datasets.load_digits()\n",
    "imagenes = numeros['images']  # Hay 1797 digitos representados en imagenes 8x8\n",
    "n_imagenes = len(imagenes)\n",
    "X = imagenes.copy()\n",
    "Y = numeros['target']\n",
    "print(np.shape(X))"
   ]
  },
  {
   "cell_type": "code",
   "execution_count": 3,
   "metadata": {},
   "outputs": [
    {
     "name": "stdout",
     "output_type": "stream",
     "text": [
      "torch.Size([1797, 1, 8, 8])\n"
     ]
    }
   ],
   "source": [
    "inputs = torch.autograd.Variable(torch.Tensor(X).float()).unsqueeze(1)\n",
    "print(inputs.size())"
   ]
  },
  {
   "cell_type": "code",
   "execution_count": 4,
   "metadata": {},
   "outputs": [
    {
     "data": {
      "image/png": "[encoded data removed]",
      "text/plain": [
       "<Figure size 1008x360 with 5 Axes>"
      ]
     },
     "metadata": {
      "needs_background": "light"
     },
     "output_type": "display_data"
    }
   ],
   "source": [
    "# muestra algunos ejemplos\n",
    "\n",
    "n_items = inputs.data.size()[0]\n",
    "random_items = np.random.choice(np.arange(n_items), 5)\n",
    "\n",
    "plt.figure(figsize=(14,5))\n",
    "for i in range(5):\n",
    "    plt.subplot(1,5,i+1)\n",
    "    item  = random_items[i]\n",
    "    plt.imshow(inputs[item][0].detach().numpy())\n",
    "    plt.title(Y[item])"
   ]
  },
  {
   "cell_type": "code",
   "execution_count": 5,
   "metadata": {},
   "outputs": [
    {
     "data": {
      "text/plain": [
       "torch.Size([1797, 1, 8, 8])"
      ]
     },
     "execution_count": 5,
     "metadata": {},
     "output_type": "execute_result"
    }
   ],
   "source": [
    "# normaliza\n",
    "mean = inputs.mean(dim=0)\n",
    "std = inputs.std(dim=0)\n",
    "std[std==0]=1.0\n",
    "\n",
    "for i in range(len(inputs)):\n",
    "    inputs[i] = (inputs[i])/std\n",
    "np.shape(inputs)\n"
   ]
  },
  {
   "cell_type": "markdown",
   "metadata": {},
   "source": [
    "# define el autoencoder\n",
    "Variamos los parámetrosk1,k2,k3 con k3: espacio latente"
   ]
  },
  {
   "cell_type": "code",
   "execution_count": 6,
   "metadata": {},
   "outputs": [],
   "source": [
    "\n",
    "class Autoencoder(torch.nn.Module):\n",
    "    def __init__(self,k1, k2, k3):\n",
    "        super(Autoencoder,self).__init__()\n",
    "        #k1=16; k2=8; k3=4\n",
    "        self.k1=k1\n",
    "        self.k2=k2\n",
    "        self.k3=k3\n",
    "        self.encoder = torch.nn.Sequential(\n",
    "            torch.nn.Conv2d(1, k1, kernel_size=3),\n",
    "            torch.nn.Conv2d(k1,k2,kernel_size=3),\n",
    "            torch.nn.Conv2d(k2,k3,kernel_size=3))\n",
    "        self.decoder = torch.nn.Sequential(\n",
    "            torch.nn.ConvTranspose2d(k3,k2,kernel_size=3),\n",
    "            torch.nn.ConvTranspose2d(k2,k1,kernel_size=3),\n",
    "            torch.nn.ConvTranspose2d(k1,1,kernel_size=3))\n",
    "    def forward(self,x,k1, k2, k3):\n",
    "        x = self.encoder(x)\n",
    "        x = self.decoder(x)\n",
    "        return x"
   ]
  },
  {
   "cell_type": "code",
   "execution_count": 7,
   "metadata": {
    "scrolled": true
   },
   "outputs": [
    {
     "name": "stdout",
     "output_type": "stream",
     "text": [
      "Autoencoder(\n",
      "  (encoder): Sequential(\n",
      "    (0): Conv2d(1, 16, kernel_size=(3, 3), stride=(1, 1))\n",
      "    (1): Conv2d(16, 4, kernel_size=(3, 3), stride=(1, 1))\n",
      "    (2): Conv2d(4, 2, kernel_size=(3, 3), stride=(1, 1))\n",
      "  )\n",
      "  (decoder): Sequential(\n",
      "    (0): ConvTranspose2d(2, 4, kernel_size=(3, 3), stride=(1, 1))\n",
      "    (1): ConvTranspose2d(4, 16, kernel_size=(3, 3), stride=(1, 1))\n",
      "    (2): ConvTranspose2d(16, 1, kernel_size=(3, 3), stride=(1, 1))\n",
      "  )\n",
      ")\n",
      "1627\n",
      "Autoencoder(\n",
      "  (encoder): Sequential(\n",
      "    (0): Conv2d(1, 16, kernel_size=(3, 3), stride=(1, 1))\n",
      "    (1): Conv2d(16, 4, kernel_size=(3, 3), stride=(1, 1))\n",
      "    (2): Conv2d(4, 4, kernel_size=(3, 3), stride=(1, 1))\n",
      "  )\n",
      "  (decoder): Sequential(\n",
      "    (0): ConvTranspose2d(4, 4, kernel_size=(3, 3), stride=(1, 1))\n",
      "    (1): ConvTranspose2d(4, 16, kernel_size=(3, 3), stride=(1, 1))\n",
      "    (2): ConvTranspose2d(16, 1, kernel_size=(3, 3), stride=(1, 1))\n",
      "  )\n",
      ")\n",
      "1773\n",
      "Autoencoder(\n",
      "  (encoder): Sequential(\n",
      "    (0): Conv2d(1, 16, kernel_size=(3, 3), stride=(1, 1))\n",
      "    (1): Conv2d(16, 4, kernel_size=(3, 3), stride=(1, 1))\n",
      "    (2): Conv2d(4, 6, kernel_size=(3, 3), stride=(1, 1))\n",
      "  )\n",
      "  (decoder): Sequential(\n",
      "    (0): ConvTranspose2d(6, 4, kernel_size=(3, 3), stride=(1, 1))\n",
      "    (1): ConvTranspose2d(4, 16, kernel_size=(3, 3), stride=(1, 1))\n",
      "    (2): ConvTranspose2d(16, 1, kernel_size=(3, 3), stride=(1, 1))\n",
      "  )\n",
      ")\n",
      "1919\n",
      "Autoencoder(\n",
      "  (encoder): Sequential(\n",
      "    (0): Conv2d(1, 16, kernel_size=(3, 3), stride=(1, 1))\n",
      "    (1): Conv2d(16, 4, kernel_size=(3, 3), stride=(1, 1))\n",
      "    (2): Conv2d(4, 8, kernel_size=(3, 3), stride=(1, 1))\n",
      "  )\n",
      "  (decoder): Sequential(\n",
      "    (0): ConvTranspose2d(8, 4, kernel_size=(3, 3), stride=(1, 1))\n",
      "    (1): ConvTranspose2d(4, 16, kernel_size=(3, 3), stride=(1, 1))\n",
      "    (2): ConvTranspose2d(16, 1, kernel_size=(3, 3), stride=(1, 1))\n",
      "  )\n",
      ")\n",
      "2065\n",
      "Autoencoder(\n",
      "  (encoder): Sequential(\n",
      "    (0): Conv2d(1, 16, kernel_size=(3, 3), stride=(1, 1))\n",
      "    (1): Conv2d(16, 4, kernel_size=(3, 3), stride=(1, 1))\n",
      "    (2): Conv2d(4, 10, kernel_size=(3, 3), stride=(1, 1))\n",
      "  )\n",
      "  (decoder): Sequential(\n",
      "    (0): ConvTranspose2d(10, 4, kernel_size=(3, 3), stride=(1, 1))\n",
      "    (1): ConvTranspose2d(4, 16, kernel_size=(3, 3), stride=(1, 1))\n",
      "    (2): ConvTranspose2d(16, 1, kernel_size=(3, 3), stride=(1, 1))\n",
      "  )\n",
      ")\n",
      "2211\n",
      "Autoencoder(\n",
      "  (encoder): Sequential(\n",
      "    (0): Conv2d(1, 16, kernel_size=(3, 3), stride=(1, 1))\n",
      "    (1): Conv2d(16, 4, kernel_size=(3, 3), stride=(1, 1))\n",
      "    (2): Conv2d(4, 12, kernel_size=(3, 3), stride=(1, 1))\n",
      "  )\n",
      "  (decoder): Sequential(\n",
      "    (0): ConvTranspose2d(12, 4, kernel_size=(3, 3), stride=(1, 1))\n",
      "    (1): ConvTranspose2d(4, 16, kernel_size=(3, 3), stride=(1, 1))\n",
      "    (2): ConvTranspose2d(16, 1, kernel_size=(3, 3), stride=(1, 1))\n",
      "  )\n",
      ")\n",
      "2357\n",
      "Autoencoder(\n",
      "  (encoder): Sequential(\n",
      "    (0): Conv2d(1, 16, kernel_size=(3, 3), stride=(1, 1))\n",
      "    (1): Conv2d(16, 8, kernel_size=(3, 3), stride=(1, 1))\n",
      "    (2): Conv2d(8, 2, kernel_size=(3, 3), stride=(1, 1))\n",
      "  )\n",
      "  (decoder): Sequential(\n",
      "    (0): ConvTranspose2d(2, 8, kernel_size=(3, 3), stride=(1, 1))\n",
      "    (1): ConvTranspose2d(8, 16, kernel_size=(3, 3), stride=(1, 1))\n",
      "    (2): ConvTranspose2d(16, 1, kernel_size=(3, 3), stride=(1, 1))\n",
      "  )\n",
      ")\n",
      "2931\n",
      "Autoencoder(\n",
      "  (encoder): Sequential(\n",
      "    (0): Conv2d(1, 16, kernel_size=(3, 3), stride=(1, 1))\n",
      "    (1): Conv2d(16, 8, kernel_size=(3, 3), stride=(1, 1))\n",
      "    (2): Conv2d(8, 4, kernel_size=(3, 3), stride=(1, 1))\n",
      "  )\n",
      "  (decoder): Sequential(\n",
      "    (0): ConvTranspose2d(4, 8, kernel_size=(3, 3), stride=(1, 1))\n",
      "    (1): ConvTranspose2d(8, 16, kernel_size=(3, 3), stride=(1, 1))\n",
      "    (2): ConvTranspose2d(16, 1, kernel_size=(3, 3), stride=(1, 1))\n",
      "  )\n",
      ")\n",
      "3221\n",
      "Autoencoder(\n",
      "  (encoder): Sequential(\n",
      "    (0): Conv2d(1, 16, kernel_size=(3, 3), stride=(1, 1))\n",
      "    (1): Conv2d(16, 8, kernel_size=(3, 3), stride=(1, 1))\n",
      "    (2): Conv2d(8, 6, kernel_size=(3, 3), stride=(1, 1))\n",
      "  )\n",
      "  (decoder): Sequential(\n",
      "    (0): ConvTranspose2d(6, 8, kernel_size=(3, 3), stride=(1, 1))\n",
      "    (1): ConvTranspose2d(8, 16, kernel_size=(3, 3), stride=(1, 1))\n",
      "    (2): ConvTranspose2d(16, 1, kernel_size=(3, 3), stride=(1, 1))\n",
      "  )\n",
      ")\n",
      "3511\n",
      "Autoencoder(\n",
      "  (encoder): Sequential(\n",
      "    (0): Conv2d(1, 16, kernel_size=(3, 3), stride=(1, 1))\n",
      "    (1): Conv2d(16, 8, kernel_size=(3, 3), stride=(1, 1))\n",
      "    (2): Conv2d(8, 8, kernel_size=(3, 3), stride=(1, 1))\n",
      "  )\n",
      "  (decoder): Sequential(\n",
      "    (0): ConvTranspose2d(8, 8, kernel_size=(3, 3), stride=(1, 1))\n",
      "    (1): ConvTranspose2d(8, 16, kernel_size=(3, 3), stride=(1, 1))\n",
      "    (2): ConvTranspose2d(16, 1, kernel_size=(3, 3), stride=(1, 1))\n",
      "  )\n",
      ")\n",
      "3801\n",
      "Autoencoder(\n",
      "  (encoder): Sequential(\n",
      "    (0): Conv2d(1, 16, kernel_size=(3, 3), stride=(1, 1))\n",
      "    (1): Conv2d(16, 8, kernel_size=(3, 3), stride=(1, 1))\n",
      "    (2): Conv2d(8, 10, kernel_size=(3, 3), stride=(1, 1))\n",
      "  )\n",
      "  (decoder): Sequential(\n",
      "    (0): ConvTranspose2d(10, 8, kernel_size=(3, 3), stride=(1, 1))\n",
      "    (1): ConvTranspose2d(8, 16, kernel_size=(3, 3), stride=(1, 1))\n",
      "    (2): ConvTranspose2d(16, 1, kernel_size=(3, 3), stride=(1, 1))\n",
      "  )\n",
      ")\n",
      "4091\n",
      "Autoencoder(\n",
      "  (encoder): Sequential(\n",
      "    (0): Conv2d(1, 16, kernel_size=(3, 3), stride=(1, 1))\n",
      "    (1): Conv2d(16, 8, kernel_size=(3, 3), stride=(1, 1))\n",
      "    (2): Conv2d(8, 12, kernel_size=(3, 3), stride=(1, 1))\n",
      "  )\n",
      "  (decoder): Sequential(\n",
      "    (0): ConvTranspose2d(12, 8, kernel_size=(3, 3), stride=(1, 1))\n",
      "    (1): ConvTranspose2d(8, 16, kernel_size=(3, 3), stride=(1, 1))\n",
      "    (2): ConvTranspose2d(16, 1, kernel_size=(3, 3), stride=(1, 1))\n",
      "  )\n",
      ")\n",
      "4381\n",
      "Autoencoder(\n",
      "  (encoder): Sequential(\n",
      "    (0): Conv2d(1, 16, kernel_size=(3, 3), stride=(1, 1))\n",
      "    (1): Conv2d(16, 12, kernel_size=(3, 3), stride=(1, 1))\n",
      "    (2): Conv2d(12, 2, kernel_size=(3, 3), stride=(1, 1))\n",
      "  )\n",
      "  (decoder): Sequential(\n",
      "    (0): ConvTranspose2d(2, 12, kernel_size=(3, 3), stride=(1, 1))\n",
      "    (1): ConvTranspose2d(12, 16, kernel_size=(3, 3), stride=(1, 1))\n",
      "    (2): ConvTranspose2d(16, 1, kernel_size=(3, 3), stride=(1, 1))\n",
      "  )\n",
      ")\n",
      "4235\n",
      "Autoencoder(\n",
      "  (encoder): Sequential(\n",
      "    (0): Conv2d(1, 16, kernel_size=(3, 3), stride=(1, 1))\n",
      "    (1): Conv2d(16, 12, kernel_size=(3, 3), stride=(1, 1))\n",
      "    (2): Conv2d(12, 4, kernel_size=(3, 3), stride=(1, 1))\n",
      "  )\n",
      "  (decoder): Sequential(\n",
      "    (0): ConvTranspose2d(4, 12, kernel_size=(3, 3), stride=(1, 1))\n",
      "    (1): ConvTranspose2d(12, 16, kernel_size=(3, 3), stride=(1, 1))\n",
      "    (2): ConvTranspose2d(16, 1, kernel_size=(3, 3), stride=(1, 1))\n",
      "  )\n",
      ")\n",
      "4669\n",
      "Autoencoder(\n",
      "  (encoder): Sequential(\n",
      "    (0): Conv2d(1, 16, kernel_size=(3, 3), stride=(1, 1))\n",
      "    (1): Conv2d(16, 12, kernel_size=(3, 3), stride=(1, 1))\n",
      "    (2): Conv2d(12, 6, kernel_size=(3, 3), stride=(1, 1))\n",
      "  )\n",
      "  (decoder): Sequential(\n",
      "    (0): ConvTranspose2d(6, 12, kernel_size=(3, 3), stride=(1, 1))\n",
      "    (1): ConvTranspose2d(12, 16, kernel_size=(3, 3), stride=(1, 1))\n",
      "    (2): ConvTranspose2d(16, 1, kernel_size=(3, 3), stride=(1, 1))\n",
      "  )\n",
      ")\n",
      "5103\n",
      "Autoencoder(\n",
      "  (encoder): Sequential(\n",
      "    (0): Conv2d(1, 16, kernel_size=(3, 3), stride=(1, 1))\n",
      "    (1): Conv2d(16, 12, kernel_size=(3, 3), stride=(1, 1))\n",
      "    (2): Conv2d(12, 8, kernel_size=(3, 3), stride=(1, 1))\n",
      "  )\n",
      "  (decoder): Sequential(\n",
      "    (0): ConvTranspose2d(8, 12, kernel_size=(3, 3), stride=(1, 1))\n",
      "    (1): ConvTranspose2d(12, 16, kernel_size=(3, 3), stride=(1, 1))\n",
      "    (2): ConvTranspose2d(16, 1, kernel_size=(3, 3), stride=(1, 1))\n",
      "  )\n",
      ")\n",
      "5537\n",
      "Autoencoder(\n",
      "  (encoder): Sequential(\n",
      "    (0): Conv2d(1, 16, kernel_size=(3, 3), stride=(1, 1))\n",
      "    (1): Conv2d(16, 12, kernel_size=(3, 3), stride=(1, 1))\n",
      "    (2): Conv2d(12, 10, kernel_size=(3, 3), stride=(1, 1))\n",
      "  )\n",
      "  (decoder): Sequential(\n",
      "    (0): ConvTranspose2d(10, 12, kernel_size=(3, 3), stride=(1, 1))\n",
      "    (1): ConvTranspose2d(12, 16, kernel_size=(3, 3), stride=(1, 1))\n",
      "    (2): ConvTranspose2d(16, 1, kernel_size=(3, 3), stride=(1, 1))\n",
      "  )\n",
      ")\n",
      "5971\n",
      "Autoencoder(\n",
      "  (encoder): Sequential(\n",
      "    (0): Conv2d(1, 16, kernel_size=(3, 3), stride=(1, 1))\n",
      "    (1): Conv2d(16, 12, kernel_size=(3, 3), stride=(1, 1))\n",
      "    (2): Conv2d(12, 12, kernel_size=(3, 3), stride=(1, 1))\n",
      "  )\n",
      "  (decoder): Sequential(\n",
      "    (0): ConvTranspose2d(12, 12, kernel_size=(3, 3), stride=(1, 1))\n",
      "    (1): ConvTranspose2d(12, 16, kernel_size=(3, 3), stride=(1, 1))\n",
      "    (2): ConvTranspose2d(16, 1, kernel_size=(3, 3), stride=(1, 1))\n",
      "  )\n",
      ")\n",
      "6405\n"
     ]
    }
   ],
   "source": [
    "# entrenamiento\n",
    "# inicializa modelo, loss y optimizador\n",
    "k1=16\n",
    "k2_tot=[4,8,12]\n",
    "#k3=4\n",
    "latent_space=np.linspace(2.,12.,6)\n",
    "n_c_tot=[]\n",
    "loss_tot=[]\n",
    "for k2 in k2_tot:\n",
    "    for k3 in latent_space:\n",
    "        num_epochs = 100\n",
    "        model = Autoencoder(k1,int(k2),int(k3))\n",
    "        print(model)\n",
    "        distance = torch.nn.MSELoss()\n",
    "        optimizer = torch.optim.Adam(model.parameters(), lr=0.005, weight_decay=1E-4)\n",
    "        loss_list = [] \n",
    "        for epoch in range(num_epochs):\n",
    "            output = model(inputs,k1,8,4)\n",
    "            loss = distance(output, inputs)\n",
    "            optimizer.zero_grad()\n",
    "            loss.backward()\n",
    "            optimizer.step()\n",
    "            loss_list.append(loss.item())\n",
    "            #print('epoch [{}/{}], loss:{:.4f}'.format(epoch+1, num_epochs, loss.item()))\n",
    "        loss_tot.append(loss_list[-1])\n",
    "        #type(loss.item())\n",
    "        n_c=0\n",
    "        for m in model.parameters():\n",
    "            n_c+=m.flatten().size()[0]\n",
    "        n_c_tot.append(n_c)\n",
    "        print(n_c)\n"
   ]
  },
  {
   "cell_type": "code",
   "execution_count": 9,
   "metadata": {},
   "outputs": [],
   "source": [
    "loss_tot_2=np.reshape(loss_tot,(len(k2_tot),len(latent_space)))\n",
    "n_c_2=np.reshape(n_c_tot,(len(k2_tot),len(latent_space)))"
   ]
  },
  {
   "cell_type": "code",
   "execution_count": 10,
   "metadata": {},
   "outputs": [
    {
     "data": {
      "text/plain": [
       "<matplotlib.legend.Legend at 0x7fb579ac4890>"
      ]
     },
     "execution_count": 10,
     "metadata": {},
     "output_type": "execute_result"
    },
    {
     "data": {
      "image/png": "[encoded data removed]",
      "text/plain": [
       "<Figure size 432x288 with 1 Axes>"
      ]
     },
     "metadata": {
      "needs_background": "light"
     },
     "output_type": "display_data"
    }
   ],
   "source": [
    "for i in range(len(k2_tot)):\n",
    "    plt.scatter(n_c_2[i],loss_tot_2[i],label=\"k2={}\".format(i+1))\n",
    "plt.xlabel(\"N_c\")\n",
    "plt.ylabel(\"Final Loss\")\n",
    "plt.legend()"
   ]
  },
  {
   "cell_type": "code",
   "execution_count": 11,
   "metadata": {},
   "outputs": [
    {
     "data": {
      "text/plain": [
       "<matplotlib.legend.Legend at 0x7fb5791c8290>"
      ]
     },
     "execution_count": 11,
     "metadata": {},
     "output_type": "execute_result"
    },
    {
     "data": {
      "image/png": "[encoded data removed]",
      "text/plain": [
       "<Figure size 432x288 with 1 Axes>"
      ]
     },
     "metadata": {
      "needs_background": "light"
     },
     "output_type": "display_data"
    }
   ],
   "source": [
    "\n",
    "for i in range(len(k2_tot)):\n",
    "    plt.scatter(latent_space,loss_tot_2[i],label=\"k2={}\".format(i+1))\n",
    "plt.xlabel(\"latent space dimension\")\n",
    "plt.ylabel(\"Final Loss\")\n",
    "plt.legend()"
   ]
  },
  {
   "cell_type": "code",
   "execution_count": 12,
   "metadata": {},
   "outputs": [
    {
     "data": {
      "text/plain": [
       "<matplotlib.legend.Legend at 0x7fb5706f0c90>"
      ]
     },
     "execution_count": 12,
     "metadata": {},
     "output_type": "execute_result"
    },
    {
     "data": {
      "image/png": "[encoded data removed]",
      "text/plain": [
       "<Figure size 432x288 with 1 Axes>"
      ]
     },
     "metadata": {
      "needs_background": "light"
     },
     "output_type": "display_data"
    }
   ],
   "source": [
    "\n",
    "for i in range(len(k2_tot)):\n",
    "    plt.scatter(n_c_2[i],latent_space,label=\"k2={}\".format(i+1))\n",
    "plt.xlabel(\"N_c\")\n",
    "plt.ylabel(\"latent space dimension\")\n",
    "plt.legend()"
   ]
  },
  {
   "cell_type": "markdown",
   "metadata": {},
   "source": [
    "# Discusión\n",
    "* En la primera gráfica se muestra la pérdida final (para la última iteración de épocas) versus el número de parámetros. Es posible ver que al aumentar el número de parámetros, para una dimensión de la capa intermedia k2 constante, hace que la pérdida diminuya. Además si aumentamos la dimensionalidad de k2 ocurre un corrimiento de la gráfica, es decir, se aumenta el número de parámetros pero la pérdida sigue siendo la misma.\n",
    "* En la segunda gráfica se muestra la pérdida final (\"loss\") versus la dimensión del espacio latente. Se observa que al aumentar la dimensión del espacio latente disminuye el \"loss\" y que la convergencia hacia un valor mínimo de loss mejora cuando aumentamos el número la dimensionalidad de la capa intermedia k2, la cual es la dimensión de salida de la primera convolución y es la dimensión de entrada de la segunda convolución."
   ]
  },
  {
   "cell_type": "code",
   "execution_count": null,
   "metadata": {},
   "outputs": [],
   "source": []
  }
 ],
 "metadata": {
  "kernelspec": {
   "display_name": "Python 3",
   "language": "python",
   "name": "python3"
  },
  "language_info": {
   "codemirror_mode": {
    "name": "ipython",
    "version": 3
   },
   "file_extension": ".py",
   "mimetype": "text/x-python",
   "name": "python",
   "nbconvert_exporter": "python",
   "pygments_lexer": "ipython3",
   "version": "3.7.4"
  }
 },
 "nbformat": 4,
 "nbformat_minor": 2
}
